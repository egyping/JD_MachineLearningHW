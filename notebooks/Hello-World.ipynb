{
 "cells": [
  {
   "cell_type": "code",
   "execution_count": 2,
   "metadata": {},
   "outputs": [],
   "source": [
    "dialogue = [\n",
    "    {\n",
    "        'customer': 'When i will receive my order?',\n",
    "        'support': 'You will get it ASAP'\n",
    "    },\n",
    "    {\n",
    "        'customer': 'How I can download the mobile application?',\n",
    "        'support': 'You need to search for AppName in App Store and Google Play'\n",
    "    },\n",
    "    {\n",
    "        'customer': 'Are you delivering to Qatar?',\n",
    "        'support': 'Yes we do ship to all GCC Countries'\n",
    "    },\n",
    "]"
   ]
  },
  {
   "cell_type": "markdown",
   "metadata": {},
   "source": [
    "# Manual response \n",
    "while True:\n",
    "    # input is terminal input \n",
    "    customer_input = input(\"How may I help you? \\n\")\n",
    "    response = None\n",
    "    \n",
    "    for convo in dialogue:\n",
    "        if convo['customer'] == customer_input:\n",
    "            response = convo['support']\n",
    "    \n",
    "    if response != None:\n",
    "        print(response)\n",
    "        break\n",
    "    print(\"I Dont' know\")\n",
    "    continue"
   ]
  },
  {
   "cell_type": "code",
   "execution_count": 1,
   "metadata": {},
   "outputs": [
    {
     "name": "stdout",
     "output_type": "stream",
     "text": [
      "[{'customer': 'Hi there, what time do you open tomorrow for lunch?', 'tags': ['opening', 'closing', 'hours']}, {'customer': 'Can I speak to your manager?', 'tags': ['customer_support']}, {'customer': 'The food was amazing thank you!', 'tags': ['customer_support', 'feedback']}, {'customer': 'What type of products do you have?', 'tags': ['products', 'menu', 'inventory', 'food']}, {'customer': 'How late is your kitchen open?', 'tags': ['opening', 'hours', 'closing']}, {'customer': 'My order was prepared incorrectly, how can I get this fixed?', 'tags': ['customer_support']}, {'customer': 'What kind of meats do you have?', 'tags': ['menu', 'products', 'inventory', 'food']}, {'customer': 'When does your dining room open?', 'tags': ['opening', 'hours']}, {'customer': 'When do you open for dinner?', 'tags': ['opening', 'hours', 'closing']}, {'customer': 'How do I contact you?', 'tags': ['contact', 'customer_support']}]\n"
     ]
    }
   ],
   "source": [
    "# Tag the responses \n",
    "\n",
    "convos_one = [\n",
    "    {\n",
    "        \"customer\": \"Hi there, what time do you open tomorrow for lunch?\",\n",
    "        \"tags\": [\"opening\", \"closing\", \"hours\"],\n",
    "    },\n",
    "     {\n",
    "        \"customer\": \"Can I speak to your manager?\",\n",
    "        \"tags\": [\"customer_support\"],\n",
    "    },\n",
    "    {\n",
    "        \"customer\": \"The food was amazing thank you!\",\n",
    "        \"tags\": [\"customer_support\", \"feedback\"],\n",
    "    },\n",
    "     {\n",
    "      \"customer\": \"What type of products do you have?\",\n",
    "       \"tags\": [\"products\", \"menu\", \"inventory\", \"food\"],\n",
    "    }  \n",
    "    \n",
    "]\n",
    "\n",
    "\n",
    "\n",
    "convos_two = [\n",
    "    {\n",
    "        \"customer\": \"How late is your kitchen open?\",\n",
    "        \"tags\": [\"opening\", \"hours\", \"closing\"],\n",
    "    },\n",
    "     {\n",
    "        \"customer\": \"My order was prepared incorrectly, how can I get this fixed?\",\n",
    "        \"tags\": [\"customer_support\"],\n",
    "    },\n",
    "    {\n",
    "        \"customer\": \"What kind of meats do you have?\",\n",
    "        \"tags\": [\"menu\", \"products\", \"inventory\", \"food\"],\n",
    "    }\n",
    "]\n",
    "\n",
    "\n",
    "\n",
    "convos_three = [\n",
    "    {\n",
    "        \"customer\": \"When does your dining room open?\",\n",
    "        \"tags\": ['opening', 'hours'],\n",
    "    },\n",
    "     {\n",
    "        \"customer\": \"When do you open for dinner?\",\n",
    "        \"tags\": ['opening', 'hours', \"closing\"],\n",
    "    },\n",
    "    {\n",
    "        \"customer\": \"How do I contact you?\",\n",
    "        \"tags\": [\"contact\", \"customer_support\"]\n",
    "    }\n",
    "]\n",
    "\n",
    "dataset = convos_one + convos_two + convos_three\n",
    "print(dataset)"
   ]
  },
  {
   "cell_type": "code",
   "execution_count": null,
   "metadata": {},
   "outputs": [],
   "source": []
  },
  {
   "cell_type": "code",
   "execution_count": null,
   "metadata": {},
   "outputs": [],
   "source": []
  }
 ],
 "metadata": {
  "kernelspec": {
   "display_name": "Python 3",
   "language": "python",
   "name": "python3"
  },
  "language_info": {
   "codemirror_mode": {
    "name": "ipython",
    "version": 3
   },
   "file_extension": ".py",
   "mimetype": "text/x-python",
   "name": "python",
   "nbconvert_exporter": "python",
   "pygments_lexer": "ipython3",
   "version": "3.8.5"
  }
 },
 "nbformat": 4,
 "nbformat_minor": 4
}
